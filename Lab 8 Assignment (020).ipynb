{
 "cells": [
  {
   "cell_type": "code",
   "execution_count": null,
   "metadata": {},
   "outputs": [],
   "source": [
    "class Person:\n",
    "    def __init__(self,name,age):\n",
    "        self.name = name\n",
    "        self.age = age\n",
    "    def display_info(self):\n",
    "        print(f\"Name is: {self.name} and age is:{self.age}\")\n",
    "\n",
    "\n",
    "\n",
    "class Employee:\n",
    "    def __init__(self,employee_id, position):\n",
    "        self.employee_id = employee_id\n",
    "        self.position = position\n",
    "    def display_info(self):\n",
    "        print(f\"Employee id is:{self.employee_id} and desigination is:{self.position}\")\n",
    "\n",
    "pass\n",
    "class Staff(Person, Employee):\n",
    "    def __init__(self, department ,  name, age, employee_id, position):\n",
    "        self.department = department\n",
    "        super().__init__(name, age)\n",
    "        super().__init__(employee_id, position)\n",
    "    \n",
    "    def additional_info(self):\n",
    "        print(f\"Employee department is: {self.department}\")\n",
    "    \n",
    "    def savefile(self, filename):\n",
    "        with open(filename, 'OOP Lab 8') as file:\n",
    "            file.write(f\"{self.name}\\n ,{self.age}\\n ,{self.employee_id}\\n ,{self.position}\\n ,{self.department}\\n\")\n",
    "\n",
    "    @classmethod\n",
    "    def readfile(cls, filename):\n",
    "        staff_list = []\n",
    "        with open(filename, 'r') as file:\n",
    "            for line in file:\n",
    "                name, age, employee_id, position, department = line.strip().split(',')\n",
    "                staff = Staff(name, int(age), int(employee_id), position, department)\n",
    "                staff_list.append(staff)\n",
    "        return staff_list\n",
    "\n",
    "staff1 = Staff(\"Syed Umar Ali\", 21, 999 , \"Prompt Engineer\", \"AI\")\n",
    "\n",
    "staff_list = Staff.read_from_file(\"staff_data.txt\")\n",
    "for staff in staff_list:\n",
    "    staff.display_info()\n",
    "    print()\n",
    "    "
   ]
  },
  {
   "cell_type": "code",
   "execution_count": null,
   "metadata": {},
   "outputs": [],
   "source": []
  }
 ],
 "metadata": {
  "kernelspec": {
   "display_name": "Python 3",
   "language": "python",
   "name": "python3"
  },
  "language_info": {
   "codemirror_mode": {
    "name": "ipython",
    "version": 3
   },
   "file_extension": ".py",
   "mimetype": "text/x-python",
   "name": "python",
   "nbconvert_exporter": "python",
   "pygments_lexer": "ipython3",
   "version": "3.12.2"
  }
 },
 "nbformat": 4,
 "nbformat_minor": 2
}
