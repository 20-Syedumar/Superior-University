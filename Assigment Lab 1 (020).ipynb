{
 "cells": [
  {
   "cell_type": "code",
   "execution_count": 3,
   "metadata": {},
   "outputs": [],
   "source": [
    "#Lab1, Task 1:"
   ]
  },
  {
   "cell_type": "code",
   "execution_count": 2,
   "metadata": {},
   "outputs": [
    {
     "name": "stdout",
     "output_type": "stream",
     "text": [
      "66 is not a prime number.\n",
      "77 is not a prime number.\n",
      "8 is not a prime number.\n",
      "7 is a prime number.\n"
     ]
    }
   ],
   "source": [
    "import math\n",
    "\n",
    "def is_prime(number):\n",
    "  if number <= 1:\n",
    "    return False\n",
    "  if number <= 3:\n",
    "    return True\n",
    "  if number % 2 == 0 or number % 3 == 0:\n",
    "    return False\n",
    "  i = 5\n",
    "  while i * i <= number:\n",
    "    if number % i == 0 or number % (i + 2) == 0:\n",
    "      return False\n",
    "    i += 6\n",
    "  return True \n",
    "\n",
    "while True:\n",
    "  number = int(input(\"Enter a number (0 to quit): \"))\n",
    "  if number == 0:\n",
    "    break\n",
    "\n",
    "  if is_prime(number):\n",
    "    print(number, \"is a prime number.\")\n",
    "  else:\n",
    "    print(number, \"is not a prime number.\")"
   ]
  },
  {
   "cell_type": "code",
   "execution_count": null,
   "metadata": {},
   "outputs": [],
   "source": []
  }
 ],
 "metadata": {
  "kernelspec": {
   "display_name": "Python 3",
   "language": "python",
   "name": "python3"
  },
  "language_info": {
   "codemirror_mode": {
    "name": "ipython",
    "version": 3
   },
   "file_extension": ".py",
   "mimetype": "text/x-python",
   "name": "python",
   "nbconvert_exporter": "python",
   "pygments_lexer": "ipython3",
   "version": "3.12.2"
  }
 },
 "nbformat": 4,
 "nbformat_minor": 2
}
