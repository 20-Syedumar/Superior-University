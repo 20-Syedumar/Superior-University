{
 "cells": [
  {
   "cell_type": "code",
   "execution_count": 1,
   "metadata": {},
   "outputs": [],
   "source": [
    "#Lab 5 - Task 1"
   ]
  },
  {
   "cell_type": "code",
   "execution_count": 12,
   "metadata": {},
   "outputs": [
    {
     "name": "stdout",
     "output_type": "stream",
     "text": [
      "Book name is: Harry porter and the author is JK rollin\n",
      "Book name is: weekly magazine and the author is dont know\n",
      "book pages:500\n",
      "Magazine issue number:58000\n"
     ]
    }
   ],
   "source": [
    "class Item:\n",
    "    def __init__(self,title,author):\n",
    "        self.title=title\n",
    "        self.author=author\n",
    "\n",
    "    def display_info(self):\n",
    "        print(f\"Book name is: {self.title} and the author is {self.author}\")\n",
    "\n",
    "class Book(Item):\n",
    "    def __init__(self,title,author,pages):\n",
    "        super().__init__(title,author)\n",
    "        self.pages=pages\n",
    "\n",
    "    def additional_info(self):\n",
    "        print(f\"book pages:{self.pages}\")\n",
    "\n",
    "class Magazine(Item):\n",
    "    def __init__(self,title,author,issue_number):\n",
    "        super().__init__(title,author)\n",
    "        self.issue_number=issue_number\n",
    "    \n",
    "    def additional_info(self):\n",
    "        print(f\"Magazine issue number:{self.issue_number}\")\n",
    "\n",
    "book =Book(\"Harry porter\",\"JK rollin\",500)\n",
    "magazine = Magazine(\"weekly magazine\",\"dont know\",58000)\n",
    "\n",
    "book.display_info()\n",
    "magazine.display_info()\n",
    "book.additional_info()\n",
    "magazine.additional_info()\n",
    "\n",
    "\n",
    "    "
   ]
  },
  {
   "cell_type": "code",
   "execution_count": null,
   "metadata": {},
   "outputs": [],
   "source": []
  }
 ],
 "metadata": {
  "kernelspec": {
   "display_name": "Python 3",
   "language": "python",
   "name": "python3"
  },
  "language_info": {
   "codemirror_mode": {
    "name": "ipython",
    "version": 3
   },
   "file_extension": ".py",
   "mimetype": "text/x-python",
   "name": "python",
   "nbconvert_exporter": "python",
   "pygments_lexer": "ipython3",
   "version": "3.12.2"
  }
 },
 "nbformat": 4,
 "nbformat_minor": 2
}
