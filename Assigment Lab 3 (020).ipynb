{
 "cells": [
  {
   "cell_type": "code",
   "execution_count": null,
   "metadata": {},
   "outputs": [],
   "source": [
    "#Lab 3, Task 1:"
   ]
  },
  {
   "cell_type": "code",
   "execution_count": 3,
   "metadata": {},
   "outputs": [],
   "source": [
    "class rectangle:\n",
    "\n",
    "    def __init__(self,width,length):\n",
    "        self.width=width\n",
    "        self.length=length\n",
    "\n",
    "    def __str__(self):\n",
    "        return f\"The width of rectangle is {self.width} and The length of rectangle is {self.length}\"\n",
    "    \n",
    "    def Area(self):\n",
    "        print(\"Area of rectangle:\",self.width*self.length)\n",
    "\n",
    "    def Perimeter(self):\n",
    "        print(\"Perimeter of rectangle:\", 2*(self.width*self.length))\n",
    "       \n"
   ]
  },
  {
   "cell_type": "code",
   "execution_count": 5,
   "metadata": {},
   "outputs": [
    {
     "name": "stdout",
     "output_type": "stream",
     "text": [
      "Area of rectangle: 54\n",
      "Perimeter of rectangle: 108\n",
      "The width of rectangle is 6 and The length of rectangle is 9\n"
     ]
    }
   ],
   "source": [
    "calculation=rectangle(6,9)\n",
    "calculation.Area()\n",
    "calculation.Perimeter()\n",
    "print(calculation)"
   ]
  },
  {
   "cell_type": "code",
   "execution_count": null,
   "metadata": {},
   "outputs": [],
   "source": []
  }
 ],
 "metadata": {
  "kernelspec": {
   "display_name": "Python 3",
   "language": "python",
   "name": "python3"
  },
  "language_info": {
   "codemirror_mode": {
    "name": "ipython",
    "version": 3
   },
   "file_extension": ".py",
   "mimetype": "text/x-python",
   "name": "python",
   "nbconvert_exporter": "python",
   "pygments_lexer": "ipython3",
   "version": "3.12.2"
  }
 },
 "nbformat": 4,
 "nbformat_minor": 2
}
