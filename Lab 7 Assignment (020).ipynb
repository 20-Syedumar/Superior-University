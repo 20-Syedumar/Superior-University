{
 "cells": [
  {
   "cell_type": "code",
   "execution_count": 1,
   "metadata": {},
   "outputs": [],
   "source": [
    "#Lab 7 - Task 1"
   ]
  },
  {
   "cell_type": "code",
   "execution_count": 13,
   "metadata": {},
   "outputs": [],
   "source": [
    "class Vehicle:\n",
    "    def __init__(self,make,model):\n",
    "        self.make=make\n",
    "        self.model=model\n",
    "        pass\n",
    "    def display_info(self):\n",
    "        print(f\"Your car make is: {self.make} and model is: {self.model}\")\n",
    "\n",
    "class Car(Vehicle):\n",
    "    def __init__(self, make, model,num_doors):\n",
    "        super().__init__(make, model)\n",
    "        self.num_doors=num_doors\n",
    "    def additional_info(self):\n",
    "        print(f\"Your car has {self.num_doors} of doors\")\n",
    "    \n",
    "class LuxuryCar(Car):\n",
    "    def __init__(self, make, model,num_doors,features):\n",
    "        super().__init__(make, model,num_doors)\n",
    "        self.features=features\n",
    "    def additional_info(self):\n",
    "        super().additional_info()\n",
    "        print(\"{self.features}\")\n",
    "\n",
    "vehicle = Vehicle(\"BMW\",2018)\n",
    "\n",
    "\n",
    "        "
   ]
  },
  {
   "cell_type": "code",
   "execution_count": 7,
   "metadata": {},
   "outputs": [
    {
     "name": "stdout",
     "output_type": "stream",
     "text": [
      "Your car make is: BMW and model is: 2018\n"
     ]
    }
   ],
   "source": [
    "vehicle.display_info()\n",
    "vehicle."
   ]
  },
  {
   "cell_type": "code",
   "execution_count": 15,
   "metadata": {},
   "outputs": [],
   "source": [
    "#Lab 7 - Task 2"
   ]
  },
  {
   "cell_type": "code",
   "execution_count": 18,
   "metadata": {},
   "outputs": [
    {
     "name": "stdout",
     "output_type": "stream",
     "text": [
      "Name: Syed Umar\n",
      "Position: Trainer\n",
      "Department: Mater Trainer\n",
      "Name: Essa\n",
      "Position: Trainer\n",
      "Hours Worked: 40\n"
     ]
    }
   ],
   "source": [
    "class Employee:\n",
    "    def __init__(self, name, position):\n",
    "        self.name = name\n",
    "        self.position = position\n",
    "\n",
    "    def display_info(self):\n",
    "        print(f\"Name: {self.name}\")\n",
    "        print(f\"Position: {self.position}\")\n",
    "\n",
    "class Manager(Employee):\n",
    "    def __init__(self, name, position, department):\n",
    "        super().__init__(name, position)\n",
    "        self.department = department\n",
    "    def additional_info(self):\n",
    "        print(f\"Department: {self.department}\")\n",
    "\n",
    "class Worker(Employee):\n",
    "    def __init__(self, name, position, hours_worked):\n",
    "        super().__init__(name, position)\n",
    "        self.hours_worked = hours_worked\n",
    "    def additional_info(self):\n",
    "            print(f\"Hours Worked: {self.hours_worked}\")\n",
    "\n",
    "manager1 = Manager(\"Syed Umar\", \"Trainer\", \"Mater Trainer\")\n",
    "worker1 = Worker(\"Essa\", \"Trainer\", 40)\n",
    "\n",
    "manager1.display_info()\n",
    "manager1.additional_info()\n",
    "\n",
    "worker1.display_info()\n",
    "worker1.additional_info()"
   ]
  },
  {
   "cell_type": "code",
   "execution_count": null,
   "metadata": {},
   "outputs": [],
   "source": []
  }
 ],
 "metadata": {
  "kernelspec": {
   "display_name": "Python 3",
   "language": "python",
   "name": "python3"
  },
  "language_info": {
   "codemirror_mode": {
    "name": "ipython",
    "version": 3
   },
   "file_extension": ".py",
   "mimetype": "text/x-python",
   "name": "python",
   "nbconvert_exporter": "python",
   "pygments_lexer": "ipython3",
   "version": "3.12.2"
  }
 },
 "nbformat": 4,
 "nbformat_minor": 2
}
