{
 "cells": [
  {
   "cell_type": "code",
   "execution_count": 1,
   "metadata": {},
   "outputs": [],
   "source": [
    "class Document:\n",
    "    def __init__(self, title, author):\n",
    "        self.title = title\n",
    "        self.author = author\n",
    "\n",
    "    def display_info(self):\n",
    "        print(f\"Title: {self.title}\")\n",
    "        print(f\"Author: {self.author}\")\n",
    "\n",
    "\n",
    "\n",
    "class Book(Document):\n",
    "    def __init__(self, title, author, genre=\"\", pages=0):\n",
    "        super().__init__(title, author)\n",
    "        self.genre = genre\n",
    "        self.pages = pages\n",
    "\n",
    "    def display_info(self):\n",
    "        super().display_info()\n",
    "        print(f\"Genre: {self.genre}\")\n",
    "        print(f\"Pages: {self.pages}\")\n",
    "\n",
    "\n",
    "class Article(Document):\n",
    "    def __init__(self, title, author, journal=\"\", doi=\"\"):\n",
    "        super().__init__(title, author)\n",
    "        self.journal = journal\n",
    "        self.doi = doi\n",
    "\n",
    "    def display_info(self):\n",
    "        super().display_info()\n",
    "        print(f\"Journal: {self.journal}\")\n",
    "        print(f\"DOI: {self.doi}\")"
   ]
  },
  {
   "cell_type": "code",
   "execution_count": null,
   "metadata": {},
   "outputs": [],
   "source": []
  }
 ],
 "metadata": {
  "kernelspec": {
   "display_name": "Python 3",
   "language": "python",
   "name": "python3"
  },
  "language_info": {
   "codemirror_mode": {
    "name": "ipython",
    "version": 3
   },
   "file_extension": ".py",
   "mimetype": "text/x-python",
   "name": "python",
   "nbconvert_exporter": "python",
   "pygments_lexer": "ipython3",
   "version": "3.12.2"
  }
 },
 "nbformat": 4,
 "nbformat_minor": 2
}
