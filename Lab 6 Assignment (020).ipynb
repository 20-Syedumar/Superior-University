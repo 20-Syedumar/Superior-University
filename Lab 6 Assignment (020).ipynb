{
 "cells": [
  {
   "cell_type": "code",
   "execution_count": 1,
   "metadata": {},
   "outputs": [],
   "source": [
    "#Lab 6 - Task 1"
   ]
  },
  {
   "cell_type": "code",
   "execution_count": 12,
   "metadata": {},
   "outputs": [
    {
     "name": "stdout",
     "output_type": "stream",
     "text": [
      "Your course code is: 006 and its name is: OOP\n",
      "Year Level: 2024\n"
     ]
    }
   ],
   "source": [
    "class Course:\n",
    "    def __init__(self,course_code,course_name):\n",
    "        self.course_code=course_code\n",
    "        self.course_name=course_name\n",
    "\n",
    "    def display_info(self):\n",
    "        print(f\"Your course code is: {self.course_code} and its name is: {self.course_name}\")\n",
    "    \n",
    "class UndergraduateCourse(Course):\n",
    "    def __init__(self, course_code, course_name,year_level):\n",
    "        super().__init__(course_code, course_name)\n",
    "        self.year_level=year_level\n",
    "    def additional_info(self):\n",
    "        print(f\"Year Level: {self.year_level}\")\n",
    "\n",
    "\n",
    "class GraduateCourse(Course):\n",
    "    def __init__(self, course_code, course_name,research_area):\n",
    "        super().__init__(course_code, course_name)\n",
    "        self.research_area=research_area\n",
    "    def additional_info(self):\n",
    "        print(f\"Research Area: {self.research_area}\")\n",
    "\n",
    "def register_course():\n",
    "    course_code=input(\"Enter Course code\")\n",
    "    course_name=input(\"Course name\")\n",
    "    course_type=input(\"Type GRADUATE for year level./ Type UNDERGRADUATE for research area.\")\n",
    "    \n",
    "    if course_type.lower() == \"undergraduate\":\n",
    "        year_level = int(input(\"Enter year level: \"))\n",
    "        course = UndergraduateCourse(course_code, course_name, year_level)\n",
    "    elif course_type.lower() == \"graduated\":\n",
    "        research_area = input(\"Enter research area: \")\n",
    "        course = GraduateCourse(course_code, course_name, research_area)\n",
    "    else:\n",
    "        print(\"Invalid course type. Please enter 'Undergraduate' or 'Graduate'.\")\n",
    "        return\n",
    "\n",
    "    course.display_info()\n",
    "    course.additional_info()\n",
    "\n",
    "register_course()\n"
   ]
  },
  {
   "cell_type": "code",
   "execution_count": 5,
   "metadata": {},
   "outputs": [
    {
     "name": "stdout",
     "output_type": "stream",
     "text": [
      "<function register_course at 0x00000202F9B0A520>\n"
     ]
    }
   ],
   "source": [
    "print(register_course)"
   ]
  },
  {
   "cell_type": "code",
   "execution_count": null,
   "metadata": {},
   "outputs": [],
   "source": []
  }
 ],
 "metadata": {
  "kernelspec": {
   "display_name": "Python 3",
   "language": "python",
   "name": "python3"
  },
  "language_info": {
   "codemirror_mode": {
    "name": "ipython",
    "version": 3
   },
   "file_extension": ".py",
   "mimetype": "text/x-python",
   "name": "python",
   "nbconvert_exporter": "python",
   "pygments_lexer": "ipython3",
   "version": "3.12.2"
  }
 },
 "nbformat": 4,
 "nbformat_minor": 2
}
